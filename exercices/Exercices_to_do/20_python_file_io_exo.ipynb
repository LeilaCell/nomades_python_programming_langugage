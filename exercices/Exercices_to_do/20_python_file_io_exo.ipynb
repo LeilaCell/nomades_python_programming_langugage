{
 "cells": [
  {
   "cell_type": "markdown",
   "id": "a60b3d3dc04487e3",
   "metadata": {},
   "source": [
    "# Exercice Capstone – Company Sales\n",
    "\n",
    "## Objectifs\n",
    "- Lire deux CSV : `sales_data.csv` et `employee_data.csv`.\n",
    "- Calculer les ventes **par employé** puis **par département**.\n",
    "- Générer un rapport `report.csv` contenant `department,total_sales`.\n",
    "\n",
    "---\n",
    "\n",
    "### Consignes\n",
    "1. Lire le fichier `sales_data.csv` et agréger les ventes par employé.\n",
    "2. Lire le fichier `employee_data.csv` et créer un dictionnaire `employee_id → department`.\n",
    "3. Associer ventes et départements, puis agréger les ventes par département.\n",
    "4. Écrire un fichier `report.csv` contenant `department,total_sales`.\n",
    "5. (Bonus) Trier les départements par ventes décroissantes et écrire `report_sorted.csv`.\n",
    "\n",
    "⚠️ La gestion des erreurs sera traitée **dans la séance suivante (Exceptions)**."
   ]
  },
  {
   "cell_type": "markdown",
   "id": "5ad027e8a9339162",
   "metadata": {},
   "source": [
    "### Imports & chemins"
   ]
  },
  {
   "cell_type": "code",
   "execution_count": 20,
   "id": "22a5c9869b079161",
   "metadata": {
    "ExecuteTime": {
     "end_time": "2025-08-24T16:41:03.696821Z",
     "start_time": "2025-08-24T16:41:03.693152Z"
    }
   },
   "outputs": [],
   "source": [
    "from pathlib import Path\n",
    "import csv\n",
    "\n",
    "# TODO: définir les chemins des fichiers\n",
    "SALES_FILE = Path(\"./files/sales_data.csv\")\n",
    "EMPLOYEES_FILE = Path(\"./files/employee_data.csv\")\n",
    "REPORT_FILE = Path(\"./files/report.csv\")\n"
   ]
  },
  {
   "cell_type": "code",
   "execution_count": 21,
   "id": "786758f5",
   "metadata": {},
   "outputs": [
    {
     "name": "stdout",
     "output_type": "stream",
     "text": [
      "SalesID,Date,Amount,EmployeeID\n",
      "1,2023-10-28,7121,6\n",
      "2,2023-08-08,4595,4\n",
      "3,2023-04-28,5826,2\n",
      "4,2023-11-01,6631,1\n",
      "5,2023-06-22,8408,1\n",
      "6,2023-02-08,6964,3\n",
      "7,2023-05-04,2591,5\n",
      "8,2023-03-03,5511,2\n",
      "9,2023-10-17,6924,5\n",
      "10,2023-05-11,2592,3\n",
      "11,2023-01-11,5828,3\n",
      "12,2023-08-31,5024,2\n",
      "13,2023-10-19,7142,2\n",
      "14,2023-05-31,2990,7\n",
      "15,2023-12-21,8962,1\n",
      "16,2023-10-24,1334,8\n",
      "17,2023-05-29,1555,10\n",
      "18,2023-01-13,3455,9\n",
      "19,2023-01-04,3841,4\n",
      "20,2023-02-14,4488,1\n",
      "21,2023-05-31,4816,3\n",
      "22,2023-10-02,2955,9\n",
      "23,2023-07-11,8569,8\n",
      "24,2023-11-14,7209,10\n",
      "25,2023-10-30,9001,7\n",
      "26,2023-02-14,3924,2\n",
      "27,2023-04-10,8528,2\n",
      "28,2023-03-13,6349,10\n",
      "29,2023-09-18,9235,9\n",
      "30,2023-12-18,7282,3\n",
      "31,2023-03-26,3944,2\n",
      "32,2023-04-07,7367,6\n",
      "33,2023-09-20,8365,5\n",
      "34,2023-04-12,9618,7\n",
      "35,2023-05-15,9569,9\n",
      "36,2023-07-22,4108,4\n",
      "37,2023-12-12,2137,7\n",
      "38,2023-12-28,1609,4\n",
      "39,2023-06-08,8750,5\n",
      "40,2023-01-18,7407,8\n",
      "41,2023-05-15,4414,9\n",
      "42,2023-05-28,6653,3\n",
      "43,2023-02-01,2026,4\n",
      "44,2023-03-30,7868,1\n",
      "45,2023-12-17,8175,3\n",
      "46,2023-12-08,6903,2\n",
      "47,2023-11-18,1815,6\n",
      "48,2023-06-29,5299,9\n",
      "49,2023-08-19,9405,5\n",
      "50,2023-12-14,7433,8\n",
      "51,2023-10-21,8685,8\n",
      "52,2023-09-25,7725,6\n",
      "53,2023-10-28,7362,4\n",
      "54,2023-05-04,2351,6\n",
      "55,2023-11-16,2487,9\n",
      "56,2023-06-04,9360,4\n",
      "57,2023-12-30,1202,9\n",
      "58,2023-03-04,3149,6\n",
      "59,2023-05-31,1999,4\n",
      "60,2023-07-28,8862,1\n",
      "61,2023-09-05,2246,6\n",
      "62,2023-02-03,1678,5\n",
      "63,2023-07-05,7322,3\n",
      "64,2023-11-01,1237,1\n",
      "65,2023-07-05,8851,5\n",
      "66,2023-10-26,3364,2\n",
      "67,2023-07-07,3070,3\n",
      "68,2023-01-13,5846,10\n",
      "69,2023-04-26,6163,4\n",
      "70,2023-07-30,4149,4\n",
      "71,2023-04-09,2376,1\n",
      "72,2023-09-09,3866,3\n",
      "73,2023-01-28,1226,7\n",
      "74,2023-06-06,3893,10\n",
      "75,2023-03-14,6754,6\n",
      "76,2023-05-03,6698,10\n",
      "77,2023-03-21,1851,9\n",
      "78,2023-06-07,6796,6\n",
      "79,2023-07-30,2591,7\n",
      "80,2023-07-12,8406,3\n",
      "81,2023-04-25,1106,10\n",
      "82,2023-06-30,7299,9\n",
      "83,2023-03-29,5822,6\n",
      "84,2023-07-26,9671,8\n",
      "85,2023-08-05,3053,3\n",
      "86,2023-10-08,9505,8\n",
      "87,2023-02-22,8152,3\n",
      "88,2023-01-28,3648,6\n",
      "89,2023-06-13,8742,8\n",
      "90,2023-01-29,4533,5\n",
      "91,2023-11-18,9616,5\n",
      "92,2023-10-08,9705,7\n",
      "93,2023-11-16,8828,7\n",
      "94,2023-10-15,9862,6\n",
      "95,2023-08-08,4442,2\n",
      "96,2023-01-07,8688,1\n",
      "97,2023-01-22,4729,4\n",
      "98,2023-10-13,5943,3\n",
      "99,2023-12-15,2717,3\n",
      "100,2023-01-05,1460,5\n",
      "\n"
     ]
    }
   ],
   "source": [
    "with open(SALES_FILE) as sales:\n",
    "    print(sales.read())\n"
   ]
  },
  {
   "cell_type": "code",
   "execution_count": 22,
   "id": "93184d37",
   "metadata": {},
   "outputs": [
    {
     "name": "stdout",
     "output_type": "stream",
     "text": [
      "EmployeeID,Name,Department,Salary\n",
      "1,Sophia Hall,Sales,5441\n",
      "2,John Hall,Operations,3193\n",
      "3,John Clark,Customer Service,6715\n",
      "4,Daniel Lee,Operations,5251\n",
      "5,Sophia Smith,Finance,7712\n",
      "6,Sophia Johnson,Customer Service,6238\n",
      "7,Charlie Johnson,IT,7008\n",
      "8,Jacob Lee,Finance,3875\n",
      "9,Emma Smith,Customer Service,4224\n",
      "10,Sophia Brown,IT,6528\n",
      "\n"
     ]
    }
   ],
   "source": [
    "with open(EMPLOYEES_FILE) as employees:\n",
    "    print(employees.read())"
   ]
  },
  {
   "cell_type": "markdown",
   "id": "3074198a4a78a7e7",
   "metadata": {},
   "source": [
    "### Lecture des CSV"
   ]
  },
  {
   "cell_type": "code",
   "execution_count": 23,
   "id": "682f71862fcb855d",
   "metadata": {},
   "outputs": [
    {
     "name": "stdout",
     "output_type": "stream",
     "text": [
      "[{'EmployeeID': '1', 'Name': 'Sophia Hall', 'Department': 'Sales', 'Salary': '5441'}, {'EmployeeID': '2', 'Name': 'John Hall', 'Department': 'Operations', 'Salary': '3193'}, {'EmployeeID': '3', 'Name': 'John Clark', 'Department': 'Customer Service', 'Salary': '6715'}, {'EmployeeID': '4', 'Name': 'Daniel Lee', 'Department': 'Operations', 'Salary': '5251'}, {'EmployeeID': '5', 'Name': 'Sophia Smith', 'Department': 'Finance', 'Salary': '7712'}, {'EmployeeID': '6', 'Name': 'Sophia Johnson', 'Department': 'Customer Service', 'Salary': '6238'}, {'EmployeeID': '7', 'Name': 'Charlie Johnson', 'Department': 'IT', 'Salary': '7008'}, {'EmployeeID': '8', 'Name': 'Jacob Lee', 'Department': 'Finance', 'Salary': '3875'}, {'EmployeeID': '9', 'Name': 'Emma Smith', 'Department': 'Customer Service', 'Salary': '4224'}, {'EmployeeID': '10', 'Name': 'Sophia Brown', 'Department': 'IT', 'Salary': '6528'}]\n"
     ]
    }
   ],
   "source": [
    "# TODO: implémenter une fonction read_csv_rows(path: Path) -> list[dict]\n",
    "# Utiliser csv.DictReader\n",
    "with open(EMPLOYEES_FILE) as employees:\n",
    "    employee_data = list(csv.DictReader(employees))\n",
    "    print(employee_data)\n"
   ]
  },
  {
   "cell_type": "markdown",
   "id": "b777292af002efbb",
   "metadata": {},
   "source": [
    "### Ventes par employé"
   ]
  },
  {
   "cell_type": "code",
   "execution_count": 25,
   "id": "de7de135c0724373",
   "metadata": {},
   "outputs": [
    {
     "name": "stdout",
     "output_type": "stream",
     "text": [
      "[{'SalesID': '1', 'Date': '2023-10-28', 'Amount': '7121', 'EmployeeID': '6'}, {'SalesID': '2', 'Date': '2023-08-08', 'Amount': '4595', 'EmployeeID': '4'}, {'SalesID': '3', 'Date': '2023-04-28', 'Amount': '5826', 'EmployeeID': '2'}, {'SalesID': '4', 'Date': '2023-11-01', 'Amount': '6631', 'EmployeeID': '1'}, {'SalesID': '5', 'Date': '2023-06-22', 'Amount': '8408', 'EmployeeID': '1'}, {'SalesID': '6', 'Date': '2023-02-08', 'Amount': '6964', 'EmployeeID': '3'}, {'SalesID': '7', 'Date': '2023-05-04', 'Amount': '2591', 'EmployeeID': '5'}, {'SalesID': '8', 'Date': '2023-03-03', 'Amount': '5511', 'EmployeeID': '2'}, {'SalesID': '9', 'Date': '2023-10-17', 'Amount': '6924', 'EmployeeID': '5'}, {'SalesID': '10', 'Date': '2023-05-11', 'Amount': '2592', 'EmployeeID': '3'}, {'SalesID': '11', 'Date': '2023-01-11', 'Amount': '5828', 'EmployeeID': '3'}, {'SalesID': '12', 'Date': '2023-08-31', 'Amount': '5024', 'EmployeeID': '2'}, {'SalesID': '13', 'Date': '2023-10-19', 'Amount': '7142', 'EmployeeID': '2'}, {'SalesID': '14', 'Date': '2023-05-31', 'Amount': '2990', 'EmployeeID': '7'}, {'SalesID': '15', 'Date': '2023-12-21', 'Amount': '8962', 'EmployeeID': '1'}, {'SalesID': '16', 'Date': '2023-10-24', 'Amount': '1334', 'EmployeeID': '8'}, {'SalesID': '17', 'Date': '2023-05-29', 'Amount': '1555', 'EmployeeID': '10'}, {'SalesID': '18', 'Date': '2023-01-13', 'Amount': '3455', 'EmployeeID': '9'}, {'SalesID': '19', 'Date': '2023-01-04', 'Amount': '3841', 'EmployeeID': '4'}, {'SalesID': '20', 'Date': '2023-02-14', 'Amount': '4488', 'EmployeeID': '1'}, {'SalesID': '21', 'Date': '2023-05-31', 'Amount': '4816', 'EmployeeID': '3'}, {'SalesID': '22', 'Date': '2023-10-02', 'Amount': '2955', 'EmployeeID': '9'}, {'SalesID': '23', 'Date': '2023-07-11', 'Amount': '8569', 'EmployeeID': '8'}, {'SalesID': '24', 'Date': '2023-11-14', 'Amount': '7209', 'EmployeeID': '10'}, {'SalesID': '25', 'Date': '2023-10-30', 'Amount': '9001', 'EmployeeID': '7'}, {'SalesID': '26', 'Date': '2023-02-14', 'Amount': '3924', 'EmployeeID': '2'}, {'SalesID': '27', 'Date': '2023-04-10', 'Amount': '8528', 'EmployeeID': '2'}, {'SalesID': '28', 'Date': '2023-03-13', 'Amount': '6349', 'EmployeeID': '10'}, {'SalesID': '29', 'Date': '2023-09-18', 'Amount': '9235', 'EmployeeID': '9'}, {'SalesID': '30', 'Date': '2023-12-18', 'Amount': '7282', 'EmployeeID': '3'}, {'SalesID': '31', 'Date': '2023-03-26', 'Amount': '3944', 'EmployeeID': '2'}, {'SalesID': '32', 'Date': '2023-04-07', 'Amount': '7367', 'EmployeeID': '6'}, {'SalesID': '33', 'Date': '2023-09-20', 'Amount': '8365', 'EmployeeID': '5'}, {'SalesID': '34', 'Date': '2023-04-12', 'Amount': '9618', 'EmployeeID': '7'}, {'SalesID': '35', 'Date': '2023-05-15', 'Amount': '9569', 'EmployeeID': '9'}, {'SalesID': '36', 'Date': '2023-07-22', 'Amount': '4108', 'EmployeeID': '4'}, {'SalesID': '37', 'Date': '2023-12-12', 'Amount': '2137', 'EmployeeID': '7'}, {'SalesID': '38', 'Date': '2023-12-28', 'Amount': '1609', 'EmployeeID': '4'}, {'SalesID': '39', 'Date': '2023-06-08', 'Amount': '8750', 'EmployeeID': '5'}, {'SalesID': '40', 'Date': '2023-01-18', 'Amount': '7407', 'EmployeeID': '8'}, {'SalesID': '41', 'Date': '2023-05-15', 'Amount': '4414', 'EmployeeID': '9'}, {'SalesID': '42', 'Date': '2023-05-28', 'Amount': '6653', 'EmployeeID': '3'}, {'SalesID': '43', 'Date': '2023-02-01', 'Amount': '2026', 'EmployeeID': '4'}, {'SalesID': '44', 'Date': '2023-03-30', 'Amount': '7868', 'EmployeeID': '1'}, {'SalesID': '45', 'Date': '2023-12-17', 'Amount': '8175', 'EmployeeID': '3'}, {'SalesID': '46', 'Date': '2023-12-08', 'Amount': '6903', 'EmployeeID': '2'}, {'SalesID': '47', 'Date': '2023-11-18', 'Amount': '1815', 'EmployeeID': '6'}, {'SalesID': '48', 'Date': '2023-06-29', 'Amount': '5299', 'EmployeeID': '9'}, {'SalesID': '49', 'Date': '2023-08-19', 'Amount': '9405', 'EmployeeID': '5'}, {'SalesID': '50', 'Date': '2023-12-14', 'Amount': '7433', 'EmployeeID': '8'}, {'SalesID': '51', 'Date': '2023-10-21', 'Amount': '8685', 'EmployeeID': '8'}, {'SalesID': '52', 'Date': '2023-09-25', 'Amount': '7725', 'EmployeeID': '6'}, {'SalesID': '53', 'Date': '2023-10-28', 'Amount': '7362', 'EmployeeID': '4'}, {'SalesID': '54', 'Date': '2023-05-04', 'Amount': '2351', 'EmployeeID': '6'}, {'SalesID': '55', 'Date': '2023-11-16', 'Amount': '2487', 'EmployeeID': '9'}, {'SalesID': '56', 'Date': '2023-06-04', 'Amount': '9360', 'EmployeeID': '4'}, {'SalesID': '57', 'Date': '2023-12-30', 'Amount': '1202', 'EmployeeID': '9'}, {'SalesID': '58', 'Date': '2023-03-04', 'Amount': '3149', 'EmployeeID': '6'}, {'SalesID': '59', 'Date': '2023-05-31', 'Amount': '1999', 'EmployeeID': '4'}, {'SalesID': '60', 'Date': '2023-07-28', 'Amount': '8862', 'EmployeeID': '1'}, {'SalesID': '61', 'Date': '2023-09-05', 'Amount': '2246', 'EmployeeID': '6'}, {'SalesID': '62', 'Date': '2023-02-03', 'Amount': '1678', 'EmployeeID': '5'}, {'SalesID': '63', 'Date': '2023-07-05', 'Amount': '7322', 'EmployeeID': '3'}, {'SalesID': '64', 'Date': '2023-11-01', 'Amount': '1237', 'EmployeeID': '1'}, {'SalesID': '65', 'Date': '2023-07-05', 'Amount': '8851', 'EmployeeID': '5'}, {'SalesID': '66', 'Date': '2023-10-26', 'Amount': '3364', 'EmployeeID': '2'}, {'SalesID': '67', 'Date': '2023-07-07', 'Amount': '3070', 'EmployeeID': '3'}, {'SalesID': '68', 'Date': '2023-01-13', 'Amount': '5846', 'EmployeeID': '10'}, {'SalesID': '69', 'Date': '2023-04-26', 'Amount': '6163', 'EmployeeID': '4'}, {'SalesID': '70', 'Date': '2023-07-30', 'Amount': '4149', 'EmployeeID': '4'}, {'SalesID': '71', 'Date': '2023-04-09', 'Amount': '2376', 'EmployeeID': '1'}, {'SalesID': '72', 'Date': '2023-09-09', 'Amount': '3866', 'EmployeeID': '3'}, {'SalesID': '73', 'Date': '2023-01-28', 'Amount': '1226', 'EmployeeID': '7'}, {'SalesID': '74', 'Date': '2023-06-06', 'Amount': '3893', 'EmployeeID': '10'}, {'SalesID': '75', 'Date': '2023-03-14', 'Amount': '6754', 'EmployeeID': '6'}, {'SalesID': '76', 'Date': '2023-05-03', 'Amount': '6698', 'EmployeeID': '10'}, {'SalesID': '77', 'Date': '2023-03-21', 'Amount': '1851', 'EmployeeID': '9'}, {'SalesID': '78', 'Date': '2023-06-07', 'Amount': '6796', 'EmployeeID': '6'}, {'SalesID': '79', 'Date': '2023-07-30', 'Amount': '2591', 'EmployeeID': '7'}, {'SalesID': '80', 'Date': '2023-07-12', 'Amount': '8406', 'EmployeeID': '3'}, {'SalesID': '81', 'Date': '2023-04-25', 'Amount': '1106', 'EmployeeID': '10'}, {'SalesID': '82', 'Date': '2023-06-30', 'Amount': '7299', 'EmployeeID': '9'}, {'SalesID': '83', 'Date': '2023-03-29', 'Amount': '5822', 'EmployeeID': '6'}, {'SalesID': '84', 'Date': '2023-07-26', 'Amount': '9671', 'EmployeeID': '8'}, {'SalesID': '85', 'Date': '2023-08-05', 'Amount': '3053', 'EmployeeID': '3'}, {'SalesID': '86', 'Date': '2023-10-08', 'Amount': '9505', 'EmployeeID': '8'}, {'SalesID': '87', 'Date': '2023-02-22', 'Amount': '8152', 'EmployeeID': '3'}, {'SalesID': '88', 'Date': '2023-01-28', 'Amount': '3648', 'EmployeeID': '6'}, {'SalesID': '89', 'Date': '2023-06-13', 'Amount': '8742', 'EmployeeID': '8'}, {'SalesID': '90', 'Date': '2023-01-29', 'Amount': '4533', 'EmployeeID': '5'}, {'SalesID': '91', 'Date': '2023-11-18', 'Amount': '9616', 'EmployeeID': '5'}, {'SalesID': '92', 'Date': '2023-10-08', 'Amount': '9705', 'EmployeeID': '7'}, {'SalesID': '93', 'Date': '2023-11-16', 'Amount': '8828', 'EmployeeID': '7'}, {'SalesID': '94', 'Date': '2023-10-15', 'Amount': '9862', 'EmployeeID': '6'}, {'SalesID': '95', 'Date': '2023-08-08', 'Amount': '4442', 'EmployeeID': '2'}, {'SalesID': '96', 'Date': '2023-01-07', 'Amount': '8688', 'EmployeeID': '1'}, {'SalesID': '97', 'Date': '2023-01-22', 'Amount': '4729', 'EmployeeID': '4'}, {'SalesID': '98', 'Date': '2023-10-13', 'Amount': '5943', 'EmployeeID': '3'}, {'SalesID': '99', 'Date': '2023-12-15', 'Amount': '2717', 'EmployeeID': '3'}, {'SalesID': '100', 'Date': '2023-01-05', 'Amount': '1460', 'EmployeeID': '5'}]\n",
      "employees: {'6': 64656.0, '4': 49941.0, '2': 54608.0, '1': 57520.0, '3': 84839.0, '5': 62173.0, '7': 46096.0, '8': 61346.0, '10': 32656.0, '9': 47766.0}\n"
     ]
    }
   ],
   "source": [
    "# TODO: implémenter aggregate_sales_by_employee(rows: list[dict]) -> dict[str, float]\n",
    "# Agréger les montants par employee_id\n",
    "with open(SALES_FILE) as sales:\n",
    "    sales_data = list(csv.DictReader(sales))\n",
    "    print(sales_data)\n",
    "\n",
    "def aggregate_sales_by_employee(rows: list[dict]) -> dict[str, float]:\n",
    "    sales_by_employee = {}\n",
    "    for row in rows:\n",
    "        employee_id = row[\"EmployeeID\"]\n",
    "        amount = float(row[\"Amount\"])\n",
    "        if employee_id in sales_by_employee:\n",
    "            sales_by_employee[employee_id] += amount\n",
    "        else:\n",
    "            sales_by_employee[employee_id] = amount\n",
    "    return sales_by_employee\n",
    "\n",
    "employees = aggregate_sales_by_employee(sales_data)\n",
    "print('employees:', employees)"
   ]
  },
  {
   "cell_type": "markdown",
   "id": "52b73382f8a36bc7",
   "metadata": {},
   "source": [
    "### Index employé → département"
   ]
  },
  {
   "cell_type": "code",
   "execution_count": 31,
   "id": "2f85c040da0494d",
   "metadata": {},
   "outputs": [
    {
     "name": "stdout",
     "output_type": "stream",
     "text": [
      "{'1': 'Sales'}\n"
     ]
    }
   ],
   "source": [
    "# TODO: implémenter build_employee_department_index(rows: list[dict]) -> dict[str, str]\n",
    "# Construire un dictionnaire {employee_id: department}\n",
    "\n",
    "def build_employee_department_index(rows: list[dict]) -> dict[str, str]:\n",
    "    department_by_employee = {}\n",
    "    for row in rows:\n",
    "        employee_id = row['EmployeeID']\n",
    "        department = row['Department']\n",
    "        department_by_employee[employee_id] = department\n",
    "        return department_by_employee\n",
    "    print(department_by_employee)\n",
    "print(build_employee_department_index(employee_data))\n",
    "\n",
    "\n",
    "\n"
   ]
  },
  {
   "cell_type": "code",
   "execution_count": 15,
   "id": "4b0e2508",
   "metadata": {},
   "outputs": [
    {
     "name": "stdout",
     "output_type": "stream",
     "text": [
      "{'EmployeeID': '1', 'Name': 'Sophia Hall', 'Department': 'Sales', 'Salary': '5441'}\n"
     ]
    }
   ],
   "source": [
    "import csv\n",
    "\n",
    "with open(\"./files/employee_data.csv\", \"r\", encoding=\"utf-8\") as f:\n",
    "    rows = list(csv.DictReader(f))   # <-- rows est une list[dict]\n",
    "\n",
    "print(rows[0])   # vérifie la 1ère ligne"
   ]
  },
  {
   "cell_type": "code",
   "execution_count": 26,
   "id": "4c9104ab",
   "metadata": {},
   "outputs": [
    {
     "name": "stdout",
     "output_type": "stream",
     "text": [
      "departments: {'1': 'Sales', '2': 'Operations', '3': 'Customer Service', '4': 'Operations', '5': 'Finance', '6': 'Customer Service', '7': 'IT', '8': 'Finance', '9': 'Customer Service', '10': 'IT'}\n"
     ]
    }
   ],
   "source": [
    "def build_employee_department_index(rows: list[dict]) -> dict[str, str]:\n",
    "    index = {}\n",
    "    for row in rows:\n",
    "        emp_id = row[\"EmployeeID\"]\n",
    "        dept = row[\"Department\"]\n",
    "        index[emp_id] = dept\n",
    "    return index\n",
    "\n",
    "departments = build_employee_department_index(rows)\n",
    "\n",
    "print('departments:', departments)"
   ]
  },
  {
   "cell_type": "markdown",
   "id": "b1325bcb663e3a94",
   "metadata": {},
   "source": [
    "### Ventes par département"
   ]
  },
  {
   "cell_type": "code",
   "execution_count": null,
   "id": "4f01a900308008e3",
   "metadata": {},
   "outputs": [
    {
     "name": "stdout",
     "output_type": "stream",
     "text": [
      "{'Customer Service': 197261.0, 'Operations': 104549.0, 'Sales': 57520.0, 'Finance': 123519.0, 'IT': 78752.0}\n"
     ]
    }
   ],
   "source": [
    "# TODO: implémenter aggregate_sales_by_department(sales_by_emp: dict[str, float], emp_to_dept: dict[str, str]) -> dict[str, float]\n",
    "# Agréger les ventes par département\n",
    "def aggregate_sales_by_department(\n",
    "    sales_by_emp: dict[str, float],\n",
    "    emp_to_dept: dict[str, str]\n",
    ") -> dict[str, float]:\n",
    "    sales_by_dept = {}\n",
    "    for emp_id, montant in sales_by_emp.items():\n",
    "        dept = emp_to_dept[emp_id]  # trouver le département de l’employé\n",
    "        sales_by_dept[dept] = sales_by_dept.get(dept, 0) + montant\n",
    "    return sales_by_dept\n",
    "\n",
    "result = aggregate_sales_by_department(employees, departments)\n",
    "print(result)"
   ]
  },
  {
   "cell_type": "markdown",
   "id": "c6a615b45355646",
   "metadata": {},
   "source": [
    "### Écriture du rapport"
   ]
  },
  {
   "cell_type": "code",
   "execution_count": 33,
   "id": "48c47368bb46a965",
   "metadata": {},
   "outputs": [
    {
     "name": "stdout",
     "output_type": "stream",
     "text": [
      "Rapport écrit dans department_totals.csv \n"
     ]
    }
   ],
   "source": [
    "# TODO: implémenter write_report(path: Path, dept_totals: dict[str, float])\n",
    "# Écrire un CSV department,total_sales\n",
    "import csv\n",
    "from pathlib import Path\n",
    "\n",
    "def write_report(path: Path, dept_totals: dict[str, float]) -> None:\n",
    "    with path.open(\"w\", encoding=\"utf-8\", newline=\"\") as f:\n",
    "        writer = csv.writer(f)\n",
    "        writer.writerow([\"department\", \"total_sales\"])   # en-tête\n",
    "        for dept, total in dept_totals.items():\n",
    "            writer.writerow([dept, total])\n",
    "\n",
    "dept_totals = {\n",
    "    \"Sales\": 57520.0,\n",
    "    \"Operations\": 104549.0,\n",
    "    \"Customer Service\": 197261.0,\n",
    "    \"Finance\": 123519.0,\n",
    "    \"IT\": 78752.0,\n",
    "}\n",
    "\n",
    "\n",
    "write_report(Path(\"department_totals.csv\"), dept_totals)\n",
    "print(\"Rapport écrit dans department_totals.csv \")"
   ]
  },
  {
   "cell_type": "markdown",
   "id": "725dafdff6044d3c",
   "metadata": {},
   "source": [
    "### Vérifications"
   ]
  },
  {
   "cell_type": "code",
   "execution_count": 35,
   "id": "4166c5b366ff950a",
   "metadata": {},
   "outputs": [
    {
     "name": "stdout",
     "output_type": "stream",
     "text": [
      "department,total_sales\n",
      "Customer Service,197261.0\n",
      "Operations,104549.0\n",
      "Sales,57520.0\n",
      "Finance,123519.0\n",
      "IT,78752.0\n",
      "\n"
     ]
    }
   ],
   "source": [
    "# TODO: vérifier que report.csv existe et contient au moins un header + 1 ligne\n",
    "with open(REPORT_FILE) as report:\n",
    "    print(report.read())"
   ]
  },
  {
   "cell_type": "markdown",
   "id": "69213588355ad55b",
   "metadata": {},
   "source": [
    "## Bonus\n",
    "- Trier les départements par ventes décroissantes.\n",
    "- Sauvegarder dans un fichier `report_sorted.csv`.\n",
    "- (Optionnel) Si matplotlib est installé, tracer un bar chart des ventes.\n"
   ]
  }
 ],
 "metadata": {
  "kernelspec": {
   "display_name": "nomades",
   "language": "python",
   "name": "python3"
  },
  "language_info": {
   "codemirror_mode": {
    "name": "ipython",
    "version": 3
   },
   "file_extension": ".py",
   "mimetype": "text/x-python",
   "name": "python",
   "nbconvert_exporter": "python",
   "pygments_lexer": "ipython3",
   "version": "3.11.13"
  }
 },
 "nbformat": 4,
 "nbformat_minor": 5
}
