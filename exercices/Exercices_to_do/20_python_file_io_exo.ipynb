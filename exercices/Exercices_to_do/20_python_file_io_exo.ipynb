{
 "cells": [
  {
   "metadata": {},
   "cell_type": "markdown",
   "source": [
    "# Exercice Capstone – Company Sales\n",
    "\n",
    "## Objectifs\n",
    "- Lire deux CSV : `sales_data.csv` et `employee_data.csv`.\n",
    "- Calculer les ventes **par employé** puis **par département**.\n",
    "- Générer un rapport `report.csv` contenant `department,total_sales`.\n",
    "\n",
    "---\n",
    "\n",
    "### Consignes\n",
    "1. Lire le fichier `sales_data.csv` et agréger les ventes par employé.\n",
    "2. Lire le fichier `employee_data.csv` et créer un dictionnaire `employee_id → department`.\n",
    "3. Associer ventes et départements, puis agréger les ventes par département.\n",
    "4. Écrire un fichier `report.csv` contenant `department,total_sales`.\n",
    "5. (Bonus) Trier les départements par ventes décroissantes et écrire `report_sorted.csv`.\n",
    "\n",
    "⚠️ La gestion des erreurs sera traitée **dans la séance suivante (Exceptions)**."
   ],
   "id": "a60b3d3dc04487e3"
  },
  {
   "metadata": {},
   "cell_type": "markdown",
   "source": "### Imports & chemins",
   "id": "5ad027e8a9339162"
  },
  {
   "metadata": {
    "ExecuteTime": {
     "end_time": "2025-08-24T16:41:03.696821Z",
     "start_time": "2025-08-24T16:41:03.693152Z"
    }
   },
   "cell_type": "code",
   "source": [
    "from pathlib import Path\n",
    "import csv\n",
    "\n",
    "# TODO: définir les chemins des fichiers\n",
    "SALES_FILE = Path(\"./files/sales_data.csv\")\n",
    "EMPLOYEES_FILE = Path(\"./files/employee_data.csv\")\n",
    "REPORT_FILE = Path(\"./files/report.csv\")\n"
   ],
   "id": "22a5c9869b079161",
   "outputs": [],
   "execution_count": 7
  },
  {
   "metadata": {},
   "cell_type": "markdown",
   "source": "### Lecture des CSV",
   "id": "3074198a4a78a7e7"
  },
  {
   "metadata": {},
   "cell_type": "code",
   "outputs": [],
   "execution_count": null,
   "source": [
    "# TODO: implémenter une fonction read_csv_rows(path: Path) -> list[dict]\n",
    "# Utiliser csv.DictReader\n"
   ],
   "id": "682f71862fcb855d"
  },
  {
   "metadata": {},
   "cell_type": "markdown",
   "source": "### Ventes par employé",
   "id": "b777292af002efbb"
  },
  {
   "metadata": {},
   "cell_type": "code",
   "outputs": [],
   "execution_count": null,
   "source": [
    "# TODO: implémenter aggregate_sales_by_employee(rows: list[dict]) -> dict[str, float]\n",
    "# Agréger les montants par employee_id\n"
   ],
   "id": "de7de135c0724373"
  },
  {
   "metadata": {},
   "cell_type": "markdown",
   "source": "### Index employé → département",
   "id": "52b73382f8a36bc7"
  },
  {
   "metadata": {},
   "cell_type": "code",
   "outputs": [],
   "execution_count": null,
   "source": [
    "# TODO: implémenter build_employee_department_index(rows: list[dict]) -> dict[str, str]\n",
    "# Construire un dictionnaire {employee_id: department}\n"
   ],
   "id": "2f85c040da0494d"
  },
  {
   "metadata": {},
   "cell_type": "markdown",
   "source": "### Ventes par département",
   "id": "b1325bcb663e3a94"
  },
  {
   "metadata": {},
   "cell_type": "code",
   "outputs": [],
   "execution_count": null,
   "source": [
    "# TODO: implémenter aggregate_sales_by_department(sales_by_emp: dict[str, float], emp_to_dept: dict[str, str]) -> dict[str, float]\n",
    "# Agréger les ventes par département"
   ],
   "id": "4f01a900308008e3"
  },
  {
   "metadata": {},
   "cell_type": "markdown",
   "source": "### Écriture du rapport",
   "id": "c6a615b45355646"
  },
  {
   "metadata": {},
   "cell_type": "code",
   "outputs": [],
   "execution_count": null,
   "source": [
    "# TODO: implémenter write_report(path: Path, dept_totals: dict[str, float])\n",
    "# Écrire un CSV department,total_sales\n"
   ],
   "id": "48c47368bb46a965"
  },
  {
   "metadata": {},
   "cell_type": "markdown",
   "source": "### Vérifications",
   "id": "725dafdff6044d3c"
  },
  {
   "metadata": {},
   "cell_type": "code",
   "outputs": [],
   "execution_count": null,
   "source": "# TODO: vérifier que report.csv existe et contient au moins un header + 1 ligne\n",
   "id": "4166c5b366ff950a"
  },
  {
   "metadata": {},
   "cell_type": "markdown",
   "source": [
    "## Bonus\n",
    "- Trier les départements par ventes décroissantes.\n",
    "- Sauvegarder dans un fichier `report_sorted.csv`.\n",
    "- (Optionnel) Si matplotlib est installé, tracer un bar chart des ventes.\n"
   ],
   "id": "69213588355ad55b"
  }
 ],
 "metadata": {
  "kernelspec": {
   "display_name": "Python 3",
   "language": "python",
   "name": "python3"
  },
  "language_info": {
   "codemirror_mode": {
    "name": "ipython",
    "version": 2
   },
   "file_extension": ".py",
   "mimetype": "text/x-python",
   "name": "python",
   "nbconvert_exporter": "python",
   "pygments_lexer": "ipython2",
   "version": "2.7.6"
  }
 },
 "nbformat": 4,
 "nbformat_minor": 5
}
