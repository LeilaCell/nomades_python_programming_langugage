{
 "cells": [
  {
   "cell_type": "markdown",
   "id": "fb6583207f7b66ef",
   "metadata": {},
   "source": [
    "## Objectifs\n",
    "- Comprendre objets, classes, attributs, méthodes.\n",
    "- Implémenter `__init__` et `__repr__`.\n",
    "- Structurer un projet en plusieurs classes (Snake v1)."
   ]
  },
  {
   "cell_type": "markdown",
   "id": "eccee9dd29e58b9d",
   "metadata": {},
   "source": [
    "## Micro-exo 1 — BankAccount\n",
    "Implémentez une classe `BankAccount` :\n",
    "- Attributs : `owner: str`, `balance: float = 0.0`\n",
    "- Méthodes :\n",
    "  - `deposit(amount: float) -> None`\n",
    "  - `withdraw(amount: float) -> None` (refuse si `amount` > `balance`)\n",
    "- `__repr__` lisible, ex: `BankAccount(owner='Alice', balance=100.0)`\n",
    "\n",
    "> Pas d’exceptions avancées aujourd’hui. Validez avec de petits tests.\n"
   ]
  },
  {
   "cell_type": "code",
   "execution_count": null,
   "id": "648d46f5131f4ed4",
   "metadata": {
    "ExecuteTime": {
     "end_time": "2025-08-26T14:29:07.057609Z",
     "start_time": "2025-08-26T14:29:07.052962Z"
    }
   },
   "outputs": [
    {
     "name": "stdout",
     "output_type": "stream",
     "text": [
      "Alice 50.0\n",
      "vous avey déposé:  25\n",
      "vous avez retiré:  10\n",
      "BankAccount(owner='Alice', balance=65.0)\n",
      "Mary 10.0\n",
      "vous avey déposé:  10\n",
      "Vous voulez retirer 30 mais vous avez: -10.0 -> solde insuffisant\n",
      "BankAccount(owner='Mary', 'erreur - solde négatif)\n"
     ]
    }
   ],
   "source": [
    "# TODO: implémenter BankAccount (sans exceptions avancées)\n",
    "class BankAccount:\n",
    "    def __init__(self, owner: str, balance: float = 0.0):\n",
    "        self.__owner: str = owner\n",
    "        self.__balance: float = balance\n",
    "        print(owner, balance)\n",
    "        pass\n",
    "\n",
    "    def deposit(self, amount: float) -> None:\n",
    "        self.__balance: float += amount\n",
    "        print('vous avey déposé: ', amount)\n",
    "        pass\n",
    "\n",
    "    def withdraw(self, amount: float) -> None:\n",
    "        self.__balance -= amount\n",
    "        if amount > self.__balance:\n",
    "            print(f\"Vous voulez retirer {amount} mais vous avez: {self.__balance} -> solde insuffisant\")\n",
    "        else:\n",
    "            print('vous avez retiré: ', amount)\n",
    "        pass\n",
    "\n",
    "    def __repr__(self) -> str:\n",
    "        self.repr = f\"BankAccount(owner='{self.__owner}', balance={self.__balance})\"\n",
    "        if self.__balance < 0:\n",
    "            self.repr = f\"BankAccount(owner='{self.__owner}', 'erreur - solde négatif)\"\n",
    "        return self.repr\n",
    "        pass\n",
    "\n",
    "# TODO: tests simples (décommentez pour vérifier)\n",
    "acc = BankAccount(\"Alice\", 50.0)\n",
    "acc.deposit(25)\n",
    "acc.withdraw(10)\n",
    "print(acc)  # attendu: BankAccount(owner='Alice', balance=65.0)\n",
    "\n",
    "acc = BankAccount(\"Mary\", 10.0)\n",
    "acc.deposit(10)\n",
    "acc.withdraw(30)\n",
    "print(acc)  # attendu: BankAccount(owner='Alice', balance=65.0)\n"
   ]
  },
  {
   "cell_type": "markdown",
   "id": "2d2862a241270154",
   "metadata": {},
   "source": [
    "## Mini-challenge — Rectangle\n",
    "Créez une classe `Rectangle` :\n",
    "- Attributs : `width: float`, `height: float`\n",
    "- Méthodes :\n",
    "  - `area() -> float` (surface)\n",
    "- `__repr__` lisible, ex: `Rectangle(3.0, 4.0)`\n",
    "\n",
    "> Testez 2–3 cas rapides.\n"
   ]
  },
  {
   "cell_type": "code",
   "execution_count": 10,
   "id": "feeb30fc661bb4f5",
   "metadata": {
    "ExecuteTime": {
     "end_time": "2025-08-26T14:30:13.673549Z",
     "start_time": "2025-08-26T14:30:13.669464Z"
    }
   },
   "outputs": [
    {
     "name": "stdout",
     "output_type": "stream",
     "text": [
      "Rectangle(3.0, 4.0)\n"
     ]
    }
   ],
   "source": [
    "# TODO: implémenter Rectangle\n",
    "class Rectangle:\n",
    "    def __init__(self, width: float, height: float):\n",
    "        self.width = width\n",
    "        self.height = height\n",
    "        pass\n",
    "\n",
    "    def area(self) -> float:\n",
    "        self.area = self.width * self.height\n",
    "        return self.area\n",
    "        pass\n",
    "\n",
    "    def __repr__(self) -> str:\n",
    "        self.repr = f\"Rectangle({self.width}, {self.height})\"\n",
    "        return self.repr\n",
    "        pass\n",
    "\n",
    "# TODO: tests simples (décommentez pour vérifier)\n",
    "r = Rectangle(3.0, 4.0)\n",
    "assert r.area() == 12.0\n",
    "print(r)  # attendu: Rectangle(3.0, 4.0)\n"
   ]
  }
 ],
 "metadata": {
  "kernelspec": {
   "display_name": "nomades",
   "language": "python",
   "name": "python3"
  },
  "language_info": {
   "codemirror_mode": {
    "name": "ipython",
    "version": 3
   },
   "file_extension": ".py",
   "mimetype": "text/x-python",
   "name": "python",
   "nbconvert_exporter": "python",
   "pygments_lexer": "ipython3",
   "version": "3.11.13"
  }
 },
 "nbformat": 4,
 "nbformat_minor": 5
}
