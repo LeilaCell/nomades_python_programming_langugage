{
 "cells": [
  {
   "metadata": {},
   "cell_type": "markdown",
   "source": [
    "# Exceptions\n",
    "\n",
    "Objectifs\n",
    "- Gérer les erreurs classiques en Python avec `try/except/(else/finally)`.\n",
    "- Écrire des messages d'erreur clairs et *ciblés* (pas de `except Exception` global).\n",
    "\n",
    "Exos :\n",
    "1) Division sécurisée `safe_divide(a, b)`\n",
    "2) Lecture fichier inexistant `read_text_file(path)`"
   ],
   "id": "96eac8aac3d34b50"
  },
  {
   "metadata": {},
   "cell_type": "markdown",
   "source": [
    "## Exercice 1 — Division sécurisée\n",
    "\n",
    "Écrire une fonction `safe_divide(a, b)` qui :\n",
    "- retourne `a / b` si possible\n",
    "- retourne `None` (ou un message) si `b == 0`\n",
    "- ne doit pas crasher sur une erreur simple"
   ],
   "id": "70639166407cabbc"
  },
  {
   "metadata": {},
   "cell_type": "code",
   "outputs": [],
   "execution_count": null,
   "source": [
    "# TODO: implémenter safe_divide(a, b) -> float | None\n",
    "def safe_divide(a: float, b: float):\n",
    "    # TODO\n",
    "    pass\n",
    "\n",
    "# TODO: tests simples\n",
    "# print(safe_divide(10, 2))   # attendu: 5.0\n",
    "# print(safe_divide(10, 0))   # attendu: None\n"
   ],
   "id": "a6a4331b3ca01baa"
  },
  {
   "metadata": {},
   "cell_type": "markdown",
   "source": [
    "## Exercice 2 — Lecture fichier inexistant\n",
    "\n",
    "Écrire une fonction `read_text_file(path)` qui :\n",
    "- ouvre un fichier texte et renvoie son contenu\n",
    "- si le fichier n'existe pas → retourne `None` au lieu de crasher\n",
    "- utiliser `with open(..., encoding=\"utf-8\")`"
   ],
   "id": "c20b7ddc0305c073"
  },
  {
   "metadata": {},
   "cell_type": "code",
   "outputs": [],
   "execution_count": null,
   "source": [
    "from pathlib import Path\n",
    "\n",
    "# TODO: implémenter read_text_file(path: Path) -> str | None\n",
    "def read_text_file(path: Path):\n",
    "    # TODO\n",
    "    pass\n",
    "\n",
    "# TODO: tests\n",
    "# print(read_text_file(Path(\"fichier_qui_n_existe_pas.txt\")))  # attendu: None\n",
    "# Path(\"demo.txt\").write_text(\"hello\", encoding=\"utf-8\")\n",
    "# print(read_text_file(Path(\"demo.txt\")))  # attendu: \"hello\""
   ],
   "id": "a0afb843626aaa0"
  },
  {
   "metadata": {},
   "cell_type": "markdown",
   "source": [
    "## Mini-challenge (optionnel)\n",
    "\n",
    "- Améliorer `safe_divide` pour accepter aussi des **str** en entrée :\n",
    "  - convertir en float si possible\n",
    "  - sinon retourner None\n",
    "- Dans `read_text_file`, ajouter un `finally` qui affiche `\"done\"` à chaque appel.\n"
   ],
   "id": "c4b072a50677c6ff"
  },
  {
   "metadata": {},
   "cell_type": "code",
   "outputs": [],
   "execution_count": null,
   "source": "",
   "id": "184503eb564c6a7a"
  }
 ],
 "metadata": {
  "kernelspec": {
   "display_name": "Python 3",
   "language": "python",
   "name": "python3"
  },
  "language_info": {
   "codemirror_mode": {
    "name": "ipython",
    "version": 2
   },
   "file_extension": ".py",
   "mimetype": "text/x-python",
   "name": "python",
   "nbconvert_exporter": "python",
   "pygments_lexer": "ipython2",
   "version": "2.7.6"
  }
 },
 "nbformat": 4,
 "nbformat_minor": 5
}
