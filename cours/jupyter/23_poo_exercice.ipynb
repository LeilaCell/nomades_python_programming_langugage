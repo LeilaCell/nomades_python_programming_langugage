{
 "cells": [
  {
   "cell_type": "code",
   "execution_count": 16,
   "metadata": {},
   "outputs": [
    {
     "name": "stdout",
     "output_type": "stream",
     "text": [
      "(0, 120)\n",
      "The colour is  black\n",
      "None\n"
     ]
    },
    {
     "ename": "AttributeError",
     "evalue": "'car' object has no attribute '__private_var'",
     "output_type": "error",
     "traceback": [
      "\u001b[31m---------------------------------------------------------------------------\u001b[39m",
      "\u001b[31mAttributeError\u001b[39m                            Traceback (most recent call last)",
      "\u001b[36mCell\u001b[39m\u001b[36m \u001b[39m\u001b[32mIn[16]\u001b[39m\u001b[32m, line 23\u001b[39m\n\u001b[32m     21\u001b[39m \u001b[38;5;28mprint\u001b[39m(my_car.car_colour())\n\u001b[32m     22\u001b[39m \u001b[38;5;66;03m#print(my_car.__car_size())  # This will raise an AttributeError\u001b[39;00m\n\u001b[32m---> \u001b[39m\u001b[32m23\u001b[39m \u001b[38;5;28mprint\u001b[39m(my_car.__private_var)\n",
      "\u001b[31mAttributeError\u001b[39m: 'car' object has no attribute '__private_var'"
     ]
    }
   ],
   "source": [
    "class car:\n",
    "    colour = \"black\"\n",
    "    size = \"S\"\n",
    "    speed_max = 120\n",
    "    speed_min = 0\n",
    "\n",
    "    __private_var = \"This is a private variable\" #private variable -> on peut la forcer à changer\n",
    "\n",
    "    def speed_range(self):\n",
    "        return self.speed_min, self.speed_max\n",
    "    \n",
    "    def car_colour(self):\n",
    "        print(\"The colour is \", self.colour)\n",
    "\n",
    "    def __car_size(self): #private method (une fonction dans une classe = une méthode) --> on peut PAS la forcer à changer\n",
    "        print(\"The size is \", self.seize)\n",
    "\n",
    "\n",
    "my_car = car()\n",
    "print(my_car.speed_range())\n",
    "print(my_car.car_colour())\n",
    "#print(my_car.__car_size())  # This will raise an AttributeError\n",
    "print(my_car.__private_var)  # This will raise an AttributeError\n",
    "    \n"
   ]
  },
  {
   "cell_type": "code",
   "execution_count": 24,
   "metadata": {},
   "outputs": [
    {
     "name": "stdout",
     "output_type": "stream",
     "text": [
      "The colour is red\n",
      "None\n",
      "(0, 200)\n",
      "L\n",
      "Trying to change private variable\n"
     ]
    }
   ],
   "source": [
    "my_car_2 = car()\n",
    "my_car_2.colour = \"red\" \n",
    "my_car_2.size = \"L\"\n",
    "my_car_2.speed_max = 200\n",
    "my_car_2.__private_var = \"Trying to change private variable\"  # This creates a new attribute, does not change the class's private variable\n",
    "\n",
    "print(my_car_2.car_colour())\n",
    "print(my_car_2.speed_range())\n",
    "# print(my_car_2.__car_size()) # This will also raise an AttributeError\n",
    "print(my_car_2.size) #mais si on passe par l'attribution sans passer par la méthode ça marche\n",
    "print(my_car_2.__private_var)  # This will print \"Trying to change private variable\"\n",
    "\n"
   ]
  },
  {
   "cell_type": "code",
   "execution_count": 25,
   "metadata": {},
   "outputs": [
    {
     "name": "stdout",
     "output_type": "stream",
     "text": [
      "(0, 420)\n",
      "The colour of car is purple\n",
      "None\n"
     ]
    }
   ],
   "source": [
    "#Version avec __init_\n",
    "\n",
    "class car:\n",
    "    def __init__(self, colour=\"purple\", size=\"M\", speed_max=420, speed_min=0):\n",
    "        self.colour = colour\n",
    "        self.size = size\n",
    "        self.speed_max = speed_max\n",
    "        self.speed_min = speed_min\n",
    "        self.__private_var = \"This is a private variable\"  # attribut privé\n",
    "\n",
    "    def speed_range(self):\n",
    "        return self.speed_min, self.speed_max\n",
    "    \n",
    "    def car_colour(self):\n",
    "        print(\"The colour of car is\", self.colour)\n",
    "\n",
    "    def __car_size(self):   # méthode privée\n",
    "        print(\"The size of car is\", self.size)\n",
    "\n",
    "\n",
    "my_carbis = car()\n",
    "print(my_carbis.speed_range())\n",
    "print(my_carbis.car_colour())"
   ]
  }
 ],
 "metadata": {
  "kernelspec": {
   "display_name": "nomades",
   "language": "python",
   "name": "python3"
  },
  "language_info": {
   "codemirror_mode": {
    "name": "ipython",
    "version": 3
   },
   "file_extension": ".py",
   "mimetype": "text/x-python",
   "name": "python",
   "nbconvert_exporter": "python",
   "pygments_lexer": "ipython3",
   "version": "3.11.13"
  }
 },
 "nbformat": 4,
 "nbformat_minor": 2
}
