{
 "cells": [
  {
   "cell_type": "markdown",
   "id": "83e01e82",
   "metadata": {
    "slideshow": {
     "slide_type": "slide"
    }
   },
   "source": [
    "# Python Programmin Language\n",
    "## Welcome to the course!\n",
    "\n",
    "### PPL_2025 - Nomades"
   ]
  },
  {
   "cell_type": "markdown",
   "id": "9d99275e",
   "metadata": {
    "slideshow": {
     "slide_type": "slide"
    }
   },
   "source": [
    "# Présentation du cours\n",
    "\n",
    "- semaine 1: Python, les bases\n",
    "- semaine 2: Functions, Modules, Bibliothèques, POO"
   ]
  },
  {
   "cell_type": "markdown",
   "id": "f0f9071e",
   "metadata": {
    "slideshow": {
     "slide_type": "slide"
    }
   },
   "source": [
    "# Présentation\n",
    "\n",
    "- Richardson Santos\n",
    "- Full‑stack & Python Software Engineer (+5 ans)\n",
    "- IA, automatisation & data : Python/FastAPI/OpenAI\n",
    "- Front : React/Next.js/TypeScript\n",
    "\n",
    "## Hobbys : \n",
    "- Programmation et Sports de combats, Ski, Voyages\n",
    "## contact\n",
    "- Contact : rpsantosvix@gmail.com · LinkedIn : linkedin.com/in/richardsonsantos\n",
    "- À vous :)"
   ]
  },
  {
   "cell_type": "markdown",
   "id": "f094880b",
   "metadata": {
    "slideshow": {
     "slide_type": "slide"
    }
   },
   "source": [
    "# Questions ?"
   ]
  },
  {
   "cell_type": "markdown",
   "id": "9ff523d2",
   "metadata": {},
   "source": [
    "# Bon Cours :)"
   ]
  }
 ],
 "metadata": {
  "celltoolbar": "Slideshow",
  "kernelspec": {
   "display_name": "Python 3 (ipykernel)",
   "language": "python",
   "name": "python3"
  },
  "language_info": {
   "codemirror_mode": {
    "name": "ipython",
    "version": 3
   },
   "file_extension": ".py",
   "mimetype": "text/x-python",
   "name": "python",
   "nbconvert_exporter": "python",
   "pygments_lexer": "ipython3",
   "version": "3.13.5"
  }
 },
 "nbformat": 4,
 "nbformat_minor": 5
}
