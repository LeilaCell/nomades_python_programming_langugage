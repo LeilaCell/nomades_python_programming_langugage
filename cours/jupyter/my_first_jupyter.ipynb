{
 "cells": [
  {
   "cell_type": "markdown",
   "id": "bad7d171",
   "metadata": {},
   "source": [
    "# My first jupyter\n",
    "\n",
    "This is my fist jupyter `notebook` example"
   ]
  },
  {
   "cell_type": "code",
   "execution_count": 15,
   "id": "60b737c7",
   "metadata": {},
   "outputs": [],
   "source": [
    "def add(a: int, b: int) -> int:\n",
    "  return a+b"
   ]
  },
  {
   "cell_type": "code",
   "execution_count": 18,
   "id": "061afa7f",
   "metadata": {},
   "outputs": [
    {
     "name": "stdout",
     "output_type": "stream",
     "text": [
      "200\n"
     ]
    }
   ],
   "source": [
    "a = 10\n",
    "b = 20\n",
    "print(a*b)"
   ]
  },
  {
   "cell_type": "code",
   "execution_count": 17,
   "id": "c60c824f",
   "metadata": {},
   "outputs": [
    {
     "data": {
      "text/plain": [
       "30"
      ]
     },
     "execution_count": 17,
     "metadata": {},
     "output_type": "execute_result"
    }
   ],
   "source": [
    "add(a, b)"
   ]
  }
 ],
 "metadata": {
  "kernelspec": {
   "display_name": "nomades_nppd_310",
   "language": "python",
   "name": "python3"
  },
  "language_info": {
   "codemirror_mode": {
    "name": "ipython",
    "version": 3
   },
   "file_extension": ".py",
   "mimetype": "text/x-python",
   "name": "python",
   "nbconvert_exporter": "python",
   "pygments_lexer": "ipython3",
   "version": "3.10.17"
  }
 },
 "nbformat": 4,
 "nbformat_minor": 5
}
